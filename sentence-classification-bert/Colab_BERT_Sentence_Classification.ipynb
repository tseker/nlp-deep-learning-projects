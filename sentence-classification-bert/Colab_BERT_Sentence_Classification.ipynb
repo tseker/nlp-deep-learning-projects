{
 "cells": [
  {
   "cell_type": "code",
   "execution_count": null,
   "metadata": {
    "colab": {
     "base_uri": "https://localhost:8080/"
    },
    "id": "9QhBpMbc0UNq",
    "outputId": "948e52df-7855-47d0-bd9f-d9819fd17385"
   },
   "outputs": [],
   "source": [
    "# Install libraries\n",
    "!pip install -U transformers datasets --quiet"
   ]
  },
  {
   "cell_type": "code",
   "execution_count": null,
   "metadata": {
    "id": "4LwBGVe-0UNs"
   },
   "outputs": [],
   "source": [
    "# Import required libraries\n",
    "from transformers import BertTokenizerFast, BertForSequenceClassification, TrainingArguments, Trainer\n",
    "from datasets import Dataset\n",
    "from sklearn.metrics import accuracy_score, precision_recall_fscore_support\n",
    "import pandas as pd"
   ]
  },
  {
   "cell_type": "code",
   "execution_count": null,
   "metadata": {
    "colab": {
     "base_uri": "https://localhost:8080/",
     "height": 73
    },
    "id": "JnZRM5fZ0UNs",
    "outputId": "23801e7c-b120-42c3-80a2-48b935978fe5"
   },
   "outputs": [],
   "source": [
    "# Upload CSV manually\n",
    "from google.colab import files\n",
    "uploaded = files.upload()"
   ]
  },
  {
   "cell_type": "code",
   "execution_count": null,
   "metadata": {
    "colab": {
     "base_uri": "https://localhost:8080/",
     "height": 223
    },
    "id": "Ju13uKaw1Zuf",
    "outputId": "d2ae8871-bfcb-4f98-a0e0-6576890313b1"
   },
   "outputs": [],
   "source": [
    "import pandas as pd\n",
    "\n",
    "# Upload folder\n",
    "df = pd.read_csv('Expanded_Policy_Statements.csv')\n",
    "df = df.drop_duplicates(subset='sentence', keep='first').reset_index(drop=True)\n",
    "\n",
    "\n",
    "print(df.columns)\n",
    "df.head()\n"
   ]
  },
  {
   "cell_type": "code",
   "execution_count": null,
   "metadata": {
    "id": "pl4RJpJ6Fi3r"
   },
   "outputs": [],
   "source": [
    "# If the values ​​in the label column look like a list, this code will flatten them\n",
    "df['label'] = df['label'].apply(lambda x: x[0] if isinstance(x, list) else x)\n"
   ]
  },
  {
   "cell_type": "code",
   "execution_count": null,
   "metadata": {
    "colab": {
     "base_uri": "https://localhost:8080/"
    },
    "id": "Fk9FsL3MFmec",
    "outputId": "84e60f60-1763-49c5-a779-49681a619122"
   },
   "outputs": [],
   "source": [
    "print(df['label'].head())\n",
    "print(type(df['label'][0]))\n"
   ]
  },
  {
   "cell_type": "code",
   "execution_count": null,
   "metadata": {
    "colab": {
     "base_uri": "https://localhost:8080/"
    },
    "id": "jSm0UKWCB7-Y",
    "outputId": "c2976151-8204-4419-ff74-25f7b507c6cf"
   },
   "outputs": [],
   "source": [
    "from sklearn.model_selection import train_test_split\n",
    "\n",
    "\n",
    "sentences = df['sentence'].tolist()\n",
    "labels = df['label'].tolist()\n",
    "\n",
    "# Stratified split\n",
    "train_sentences, test_sentences, train_labels, test_labels = train_test_split(\n",
    "    sentences, labels, test_size=0.2, stratify=labels, random_state=42\n",
    ")\n",
    "\n",
    "# New dataframer\n",
    "df_train = pd.DataFrame({'sentence': train_sentences, 'label': train_labels})\n",
    "df_test = pd.DataFrame({'sentence': test_sentences, 'label': test_labels})\n",
    "\n",
    "print(\"✅ Train set label counts\")\n",
    "print(df_train['label'].value_counts())\n",
    "print(\"\\n✅ Test set label counts\")\n",
    "print(df_test['label'].value_counts())\n"
   ]
  },
  {
   "cell_type": "code",
   "execution_count": null,
   "metadata": {
    "id": "7S0exiTA0UNs"
   },
   "outputs": [],
   "source": [
    "\n",
    "label2id = {'subsidy': 0, 'tax': 1, 'ban': 2, 'other': 3}\n",
    "id2label = {v: k for k, v in label2id.items()}\n",
    "\n",
    "# If df_train and df_test exist:\n",
    "df_train['label'] = df_train['label'].apply(lambda x: label2id[x[0]] if isinstance(x, list) else label2id[x])\n",
    "df_test['label'] = df_test['label'].apply(lambda x: label2id[x[0]] if isinstance(x, list) else label2id[x])\n",
    "\n",
    "# Transform to HuggingFace Dataset again\n",
    "from datasets import Dataset\n",
    "dataset_train = Dataset.from_pandas(df_train)\n",
    "dataset_test = Dataset.from_pandas(df_test)\n"
   ]
  },
  {
   "cell_type": "code",
   "execution_count": null,
   "metadata": {
    "colab": {
     "base_uri": "https://localhost:8080/",
     "height": 81,
     "referenced_widgets": [
      "41a3f56c5e54403b9f5ee3cc725c30ab",
      "7f001e57e42c4e1aadc0aca15cde1d5f",
      "d3e69229eca447448863559e4651d650",
      "ed03af5c7bde470d9e3400ec13c0edc1",
      "638c6b658b744281a6a0eb5e02463ce3",
      "8b62b9bbebfe44d48dbfb57634b250ed",
      "f43fcc14c8804436b4cf0356887657d4",
      "b9f40ccebdfd435b96b007b073f1388e",
      "472f432f21414f03a3d1c00229711a68",
      "420370d54f2d4a36815305845bc6c11f",
      "ba0e470fefcf42d3831b62cc50dbf11e",
      "a187b3a404844355bee078ea9525cfd5",
      "21131f7065234920a2cc2decd04f1961",
      "e2cf306b676b4489aed122a9cf9f42dd",
      "96e054080b8242dd8642fe5ef704dbbf",
      "9f456fd6b99246589693101f6331c6e7",
      "4448d3ad84334b4590d4fa9a9664f1cf",
      "5edb87915b194ade93755da1b907b667",
      "59526d6794d14848833e567eb81aa6e0",
      "c72ad3491551499e927276ecc3b318a5",
      "3dc6450f6e2442478c0c09100b1d08c2",
      "f6565194d3574b309f3b852b9b20633d"
     ]
    },
    "id": "vDyPlBlo0UNt",
    "outputId": "e2052ae9-6543-46a9-cc31-c53997e5b6ca"
   },
   "outputs": [],
   "source": [
    "from transformers import BertTokenizerFast\n",
    "\n",
    "# Upload Tokenizer\n",
    "tokenizer = BertTokenizerFast.from_pretrained('bert-base-uncased')\n",
    "\n",
    "# Tokenization function\n",
    "def tokenize(batch):\n",
    "    return tokenizer(batch['sentence'], padding=True, truncation=True)\n",
    "\n",
    "# Apply Tokenization\n",
    "dataset_train = dataset_train.map(tokenize, batched=True)\n",
    "dataset_test = dataset_test.map(tokenize, batched=True)\n",
    "\n",
    "# Turn into PyTorch format\n",
    "dataset_train.set_format('torch', columns=['input_ids', 'attention_mask', 'label'])\n",
    "dataset_test.set_format('torch', columns=['input_ids', 'attention_mask', 'label'])\n"
   ]
  },
  {
   "cell_type": "code",
   "execution_count": null,
   "metadata": {
    "colab": {
     "base_uri": "https://localhost:8080/"
    },
    "id": "y6zwpxtB0UNt",
    "outputId": "c6f38608-5ef2-448a-a7b5-ad17051200d9"
   },
   "outputs": [],
   "source": [
    "from transformers import BertForSequenceClassification, TrainingArguments, Trainer\n",
    "\n",
    "# Upload the model\n",
    "model = BertForSequenceClassification.from_pretrained(\n",
    "    'bert-base-uncased',\n",
    "    num_labels=4,  # 4 classes: subsidy, tax, ban, other\n",
    "    id2label=id2label,\n",
    "    label2id=label2id\n",
    ")\n",
    "\n",
    "# Training arguments\n",
    "training_args = TrainingArguments(\n",
    "    output_dir='./results',\n",
    "    num_train_epochs=3,\n",
    "    per_device_train_batch_size=8,\n",
    "    per_device_eval_batch_size=8,\n",
    "    logging_steps=10,\n",
    "    logging_dir='./logs',\n",
    "    report_to=\"none\",  # wandb kapalı\n",
    "    #evaluation_strategy=\"epoch\",                # Evaluate after each epoch\n",
    "    #save_strategy=\"epoch\",                      # Save after each epoch\n",
    "    #load_best_model_at_end=True,                # Load the model with the best validation performance\n",
    "    learning_rate=2e-5,                # küçük öğrenme oranı\n",
    "    weight_decay=0.01,                 # prevent overfitting\n",
    "    save_total_limit=1,                # Save only the best model\n",
    ")\n",
    "\n",
    "\n",
    "\n",
    "\n",
    "# Function of the evaluation metrics\n",
    "from sklearn.metrics import accuracy_score, precision_recall_fscore_support\n",
    "\n",
    "def compute_metrics(p):\n",
    "    preds = p.predictions.argmax(-1)\n",
    "    precision, recall, f1, _ = precision_recall_fscore_support(p.label_ids, preds, average='weighted')\n",
    "    acc = accuracy_score(p.label_ids, preds)\n",
    "    return {\"accuracy\": acc, \"f1\": f1, \"precision\": precision, \"recall\": recall}\n"
   ]
  },
  {
   "cell_type": "code",
   "execution_count": null,
   "metadata": {
    "colab": {
     "base_uri": "https://localhost:8080/",
     "height": 897
    },
    "id": "l2HE5jNo0UNt",
    "outputId": "9a557981-f58d-4998-922b-7a2572b7fd31"
   },
   "outputs": [],
   "source": [
    "trainer = Trainer(\n",
    "    model=model,\n",
    "    args=training_args,\n",
    "    train_dataset=dataset_train,\n",
    "    eval_dataset=dataset_test,\n",
    "    compute_metrics=compute_metrics,\n",
    "    tokenizer=tokenizer\n",
    ")\n",
    "\n",
    "trainer.train()\n",
    "\n",
    "\n"
   ]
  },
  {
   "cell_type": "code",
   "execution_count": null,
   "metadata": {
    "colab": {
     "base_uri": "https://localhost:8080/"
    },
    "id": "dUb9_5Le3MtO",
    "outputId": "356cecda-5b89-4a0d-fccc-70853882da44"
   },
   "outputs": [],
   "source": [
    "#save the model in case you want to use it later.\n",
    "model.save_pretrained(\"./saved_model\")\n",
    "tokenizer.save_pretrained(\"./saved_model\")\n"
   ]
  },
  {
   "cell_type": "code",
   "execution_count": null,
   "metadata": {
    "colab": {
     "base_uri": "https://localhost:8080/",
     "height": 208
    },
    "id": "LnzyH5uW7bgB",
    "outputId": "970d50a3-053c-4945-b649-717393ecd279"
   },
   "outputs": [],
   "source": [
    "from sklearn.metrics import classification_report\n",
    "import numpy as np\n",
    "\n",
    "# Prediction over test set\n",
    "predictions = trainer.predict(dataset_test)\n",
    "preds = predictions.predictions.argmax(-1)\n",
    "true_labels = predictions.label_ids\n",
    "\n",
    "# What tags were actually used (sorted)\n",
    "used_label_ids = np.unique(np.concatenate([true_labels, preds]))\n",
    "\n",
    "# Get the name match in order (e.g. order like [1, 3, 0])\n",
    "id2label = {0: 'subsidy', 1: 'tax', 2: 'ban', 3: 'other'}\n",
    "target_names = [id2label[i] for i in used_label_ids]\n",
    "\n",
    "# Classification performance report\n",
    "print(classification_report(true_labels, preds, target_names=target_names, labels=used_label_ids))\n"
   ]
  },
  {
   "cell_type": "code",
   "execution_count": null,
   "metadata": {
    "colab": {
     "base_uri": "https://localhost:8080/",
     "height": 507
    },
    "id": "DwMlmRIb7jcI",
    "outputId": "0db24b04-4854-403b-99b3-9db35496007a"
   },
   "outputs": [],
   "source": [
    "import matplotlib.pyplot as plt\n",
    "import seaborn as sns\n",
    "from sklearn.metrics import confusion_matrix\n",
    "\n",
    "# Create confusion matrix\n",
    "cm = confusion_matrix(true_labels, preds, labels=used_label_ids)\n",
    "\n",
    "\n",
    "id2label = {0: 'subsidy', 1: 'tax', 2: 'ban', 3: 'other'}\n",
    "labels_order = [id2label[i] for i in used_label_ids]\n",
    "\n",
    "# Matrix plot\n",
    "plt.figure(figsize=(6, 5))\n",
    "sns.heatmap(cm, annot=True, fmt='d', cmap='Blues',\n",
    "            xticklabels=labels_order, yticklabels=labels_order)\n",
    "plt.xlabel(\"Predicted Label\")\n",
    "plt.ylabel(\"True Label\")\n",
    "plt.title(\"Confusion Matrix\")\n",
    "plt.tight_layout()\n",
    "plt.show()\n"
   ]
  },
  {
   "cell_type": "code",
   "execution_count": null,
   "metadata": {
    "colab": {
     "base_uri": "https://localhost:8080/"
    },
    "id": "EVJeB9meImFR",
    "outputId": "914d3edf-86cd-421e-adf5-fdbe8bc6c79c"
   },
   "outputs": [],
   "source": [
    "# id2label dictionary\n",
    "id2label = {0: 'subsidy', 1: 'tax', 2: 'ban', 3: 'other'}\n",
    "\n",
    "# Test samples ve model predictions\n",
    "for i in range(10):  # ilk 10 örnek\n",
    "    sentence = df_test.iloc[i]['sentence']\n",
    "    true_label = id2label[df_test.iloc[i]['label']]\n",
    "    pred_label = id2label[preds[i]]\n",
    "\n",
    "    print(f\"🟢 Sentence: {sentence}\")\n",
    "    print(f\"   ✅ True label: {true_label}\")\n",
    "    print(f\"   🤖 Predicted: {pred_label}\")\n",
    "    print(\"-\" * 80)\n"
   ]
  },
  {
   "cell_type": "code",
   "execution_count": null,
   "metadata": {
    "id": "wbBJnTpvJNpn"
   },
   "outputs": [],
   "source": []
  }
 ],
 "metadata": {
  "colab": {
   "provenance": []
  },
  "kernelspec": {
   "display_name": "Python 3",
   "language": "python",
   "name": "python3"
  },
  "language_info": {
   "name": "python",
   "version": "3.11"
  }
 },
 "nbformat": 4,
 "nbformat_minor": 0
}
