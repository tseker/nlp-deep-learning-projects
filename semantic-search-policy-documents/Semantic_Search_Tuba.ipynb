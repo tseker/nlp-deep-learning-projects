{
 "cells": [
  {
   "cell_type": "markdown",
   "id": "edbbb127",
   "metadata": {},
   "source": [
    "# Semantic Search on Policy Documents using Transformers"
   ]
  },
  {
   "cell_type": "code",
   "execution_count": null,
   "id": "ca5464c3",
   "metadata": {},
   "outputs": [],
   "source": [
    "from sentence_transformers import SentenceTransformer, util\n",
    "\n",
    "# Load the pretrained model\n",
    "model = SentenceTransformer('all-MiniLM-L6-v2')"
   ]
  },
  {
   "cell_type": "code",
   "execution_count": null,
   "id": "414cd53e",
   "metadata": {},
   "outputs": [],
   "source": [
    "# List of example policy-related documents\n",
    "documents = [\n",
    "    \"The government reduced tariffs on agricultural imports in 1998.\",\n",
    "    \"A major reform in 2002 led to an increase in VAT rates.\",\n",
    "    \"In 2010, a new fiscal policy focused on education spending was implemented.\",\n",
    "    \"Tariffs on electronics were removed under the 2015 free trade agreement.\",\n",
    "    \"Corporate taxes were adjusted in response to the financial crisis of 2008.\",\n",
    "    \"Foreign investment incentives were introduced in the energy sector.\",\n",
    "    \"A subsidy program was initiated to support local manufacturers.\",\n",
    "    \"The budget deficit led to a restructuring of public debt obligations.\",\n",
    "    \"Import duties on technology were lifted to promote innovation.\",\n",
    "    \"Tax cuts were proposed to stimulate consumer spending.\"\n",
    "]\n",
    "\n",
    "# User query\n",
    "query = \"tax reform during financial crisis\"\n"
   ]
  },
  {
   "cell_type": "code",
   "execution_count": null,
   "id": "ec8b4e4d",
   "metadata": {},
   "outputs": [],
   "source": [
    "# Encode documents and query into embeddings\n",
    "doc_embeddings = model.encode(documents, convert_to_tensor=True)\n",
    "query_embedding = model.encode(query, convert_to_tensor=True)\n",
    "\n",
    "# Compute cosine similarity scores\n",
    "cosine_scores = util.cos_sim(query_embedding, doc_embeddings)\n",
    "\n",
    "# Find the index of the top-matching document\n",
    "top_result = cosine_scores.argmax().item()\n",
    "\n",
    "# Display the most relevant document\n",
    "print(f\"Query: {query}\")\n",
    "print(f\"Top Match: {documents[top_result]}\")\n",
    "print(f\"Score: {cosine_scores[0][top_result]:.4f}\")"
   ]
  },
  {
   "cell_type": "code",
   "execution_count": null,
   "id": "6929c53c",
   "metadata": {},
   "outputs": [],
   "source": [
    "import torch\n",
    "\n",
    "# Get top 3 similarity scores and document indices\n",
    "scores = cosine_scores[0]\n",
    "top_results = torch.topk(scores, k=3)\n",
    "\n",
    "# Print top 3 documents with similarity scores\n",
    "for score, idx in zip(top_results.values, top_results.indices):\n",
    "    print(f\"Document: {documents[idx]}\")\n",
    "    print(f\"Similarity Score: {score:.4f}\")\n",
    "    print(\"---\")"
   ]
  },
  {
   "cell_type": "code",
   "execution_count": null,
   "id": "294ee033",
   "metadata": {},
   "outputs": [],
   "source": [
    "import pandas as pd\n",
    "\n",
    "# Create a results table\n",
    "top_docs = [documents[idx] for idx in top_results.indices]\n",
    "top_scores = [score.item() for score in top_results.values]\n",
    "\n",
    "results_df = pd.DataFrame({\n",
    "    'Document': top_docs,\n",
    "    'Similarity Score': top_scores\n",
    "}).sort_values(by='Similarity Score', ascending=False)\n",
    "\n",
    "results_df"
   ]
  }
 ],
 "metadata": {},
 "nbformat": 4,
 "nbformat_minor": 5
}